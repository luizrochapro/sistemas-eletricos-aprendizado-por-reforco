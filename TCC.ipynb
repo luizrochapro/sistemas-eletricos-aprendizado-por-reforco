{
  "nbformat": 4,
  "nbformat_minor": 0,
  "metadata": {
    "colab": {
      "private_outputs": true,
      "provenance": [],
      "authorship_tag": "ABX9TyO6P2enDmI3EGPAROJfCjIg",
      "include_colab_link": true
    },
    "kernelspec": {
      "name": "python3",
      "display_name": "Python 3"
    },
    "language_info": {
      "name": "python"
    }
  },
  "cells": [
    {
      "cell_type": "markdown",
      "metadata": {
        "id": "view-in-github",
        "colab_type": "text"
      },
      "source": [
        "<a href=\"https://colab.research.google.com/github/luizrochapro/sistemas-eletricos-aprendizado-por-reforco/blob/main/TCC.ipynb\" target=\"_parent\"><img src=\"https://colab.research.google.com/assets/colab-badge.svg\" alt=\"Open In Colab\"/></a>"
      ]
    },
    {
      "cell_type": "code",
      "source": [
        "!pip install grid2op[optional]"
      ],
      "metadata": {
        "id": "wnzWIsUGYYuD"
      },
      "execution_count": null,
      "outputs": []
    },
    {
      "cell_type": "code",
      "source": [
        "import os\n",
        "import numpy as np\n",
        "import copy"
      ],
      "metadata": {
        "id": "G0fFRd_ibeF1"
      },
      "execution_count": null,
      "outputs": []
    },
    {
      "cell_type": "code",
      "source": [
        "from google.colab import drive\n",
        "drive.mount('/content/gdrive')"
      ],
      "metadata": {
        "id": "wcxjs0z3MxWr"
      },
      "execution_count": null,
      "outputs": []
    },
    {
      "cell_type": "code",
      "source": [
        "try:\n",
        "    from lightsim2grid import LightSimBackend\n",
        "    bk_cls = LightSimBackend\n",
        "except ImportError as exc:\n",
        "    print(f\"Error: {exc} when importing faster LightSimBackend\")\n",
        "    from grid2op.Backend import PandaPowerBackend\n",
        "    bk_cls = PandaPowerBackend"
      ],
      "metadata": {
        "id": "iG-nLlA-pOvO"
      },
      "execution_count": null,
      "outputs": []
    },
    {
      "cell_type": "code",
      "source": [
        "# Agente criado no notebook 02_Observation.ipynb\n",
        "\n",
        "from grid2op.Agent import BaseAgent\n",
        "\n",
        "class MyAgent(BaseAgent):\n",
        "    def __init__(self, action_space):\n",
        "        # python required method to code\n",
        "        BaseAgent.__init__(self, action_space)\n",
        "        self.do_nothing = self.action_space({})\n",
        "        self.print_next = False\n",
        "\n",
        "    def act(self, observation, reward, done=False):\n",
        "        i_max = np.argmax(observation.rho)\n",
        "        new_status_max = np.zeros(observation.rho.shape, dtype=int)\n",
        "        new_status_max[i_max] = -1\n",
        "        act_max = self.action_space({\"set_line_status\": new_status_max})\n",
        "\n",
        "        i_min = np.argmin(observation.rho)\n",
        "        new_status_min = np.zeros(observation.rho.shape, dtype=int)\n",
        "        if observation.rho[i_min] > 0:\n",
        "            # all powerlines are connected, i try to disconnect this one\n",
        "            new_status_min[i_min] = -1\n",
        "            act_min = self.action_space({\"set_line_status\": new_status_min})\n",
        "        else:\n",
        "            # at least one powerline is disconnected, i try to reconnect it\n",
        "            new_status_min[i_min] = 1\n",
        "#             act_min = self.action_space({\"set_status\": new_status_min})\n",
        "            act_min = self.action_space({\"set_line_status\": new_status_min,\n",
        "                                         \"set_bus\": {\"lines_or_id\": [(i_min, 1)], \"lines_ex_id\": [(i_min, 1)]}})\n",
        "\n",
        "        _, reward_sim_dn, *_ = observation.simulate(self.do_nothing)\n",
        "        _, reward_sim_max, *_ = observation.simulate(act_max)\n",
        "        _, reward_sim_min, *_ = observation.simulate(act_min)\n",
        "\n",
        "        if reward_sim_dn >= reward_sim_max and reward_sim_dn >= reward_sim_min:\n",
        "            self.print_next = False\n",
        "            res = self.do_nothing\n",
        "        elif reward_sim_max >= reward_sim_min:\n",
        "            self.print_next = True\n",
        "            res = act_max\n",
        "        else:\n",
        "            self.print_next = True\n",
        "            res = act_min\n",
        "        return res"
      ],
      "metadata": {
        "id": "ZDR2K3vW7j4u"
      },
      "execution_count": null,
      "outputs": []
    },
    {
      "cell_type": "code",
      "execution_count": null,
      "metadata": {
        "id": "kYLZP2C3YQkJ"
      },
      "outputs": [],
      "source": [
        "import grid2op\n",
        "#env_name  = \"l2rpn_wcci_2020\"\n",
        "env_name = \"rte_case5_example\"\n",
        "env = grid2op.make(env_name, backend=bk_cls(), test=True)"
      ]
    },
    {
      "cell_type": "code",
      "source": [
        "from grid2op.PlotGrid import PlotMatplot\n",
        "plot_helper = PlotMatplot(env.observation_space)\n",
        "fig = plot_helper.plot_layout()"
      ],
      "metadata": {
        "id": "SfCUlkS6Yo7M"
      },
      "execution_count": null,
      "outputs": []
    },
    {
      "cell_type": "code",
      "source": [
        "from grid2op.Agent import DoNothingAgent\n",
        "#my_agent = DoNothingAgent(env.action_space)\n",
        "\n",
        "from grid2op.Agent import PowerLineSwitch\n",
        "#my_agent = PowerLineSwitch(env.action_space)\n",
        "\n",
        "max_iter = -1\n",
        "nb_episode = 5"
      ],
      "metadata": {
        "id": "La3Ok55DZ8vg"
      },
      "execution_count": null,
      "outputs": []
    },
    {
      "cell_type": "code",
      "source": [
        "from grid2op import Agent\n",
        "from grid2op.Runner import Runner\n",
        "#runner = Runner(**env.get_params_for_runner(), agentClass=None, agentInstance=my_agent)\n",
        "runner = Runner(**env.get_params_for_runner(), agentClass=MyAgent)\n",
        "path_save_expe = os.path.abspath(\"/content/gdrive/MyDrive/TCC_USP/saved_experiment_MyAgent/\")\n",
        "res = runner.run(nb_episode=nb_episode, max_iter=max_iter, path_save=path_save_expe)\n",
        "print(\"The results are:\")\n",
        "for chron_name, _, cum_reward, nb_time_step, max_ts in res:\n",
        "    msg_tmp = \"\\tFor chronics located at {}\\n\".format(chron_name)\n",
        "    msg_tmp += \"\\t\\t - cumulative reward: {:.2f}\\n\".format(cum_reward)\n",
        "    msg_tmp += \"\\t\\t - number of time steps completed: {:.0f} / {:.0f}\".format(nb_time_step, max_ts)\n",
        "    print(msg_tmp)"
      ],
      "metadata": {
        "id": "Ngi1CO3zZ7QH"
      },
      "execution_count": null,
      "outputs": []
    },
    {
      "cell_type": "code",
      "source": [
        "from grid2op import Agent\n",
        "max_iter = -1\n",
        "\n",
        "from grid2op.Runner import Runner\n",
        "runner = Runner(**env.get_params_for_runner(), agentClass=DoNothingAgent)\n",
        "path_save_expe = os.path.abspath(\"/content/gdrive/MyDrive/TCC_USP/saved_experiment_DoNothingAgent\")\n",
        "res = runner.run(nb_episode=nb_episode, max_iter=max_iter, path_save=path_save_expe)\n",
        "print(\"The results are:\")\n",
        "for chron_name, _, cum_reward, nb_time_step, max_ts in res:\n",
        "    msg_tmp = \"\\tFor chronics located at {}\\n\".format(chron_name)\n",
        "    msg_tmp += \"\\t\\t - cumulative reward: {:.2f}\\n\".format(cum_reward)\n",
        "    msg_tmp += \"\\t\\t - number of time steps completed: {:.0f} / {:.0f}\".format(nb_time_step, max_ts)\n",
        "    print(msg_tmp)"
      ],
      "metadata": {
        "id": "PYqxbPF_8WGE"
      },
      "execution_count": null,
      "outputs": []
    },
    {
      "cell_type": "code",
      "source": [
        "from grid2op import Agent\n",
        "max_iter = -1\n",
        "\n",
        "from grid2op.Runner import Runner\n",
        "runner = Runner(**env.get_params_for_runner(), agentClass=PowerLineSwitch)\n",
        "path_save_expe = os.path.abspath(\"/content/gdrive/MyDrive/TCC_USP/saved_experiment_PowerLineSwitch\")\n",
        "res = runner.run(nb_episode=nb_episode, max_iter=max_iter, path_save=path_save_expe)\n",
        "print(\"The results are:\")\n",
        "for chron_name, _, cum_reward, nb_time_step, max_ts in res:\n",
        "    msg_tmp = \"\\tFor chronics located at {}\\n\".format(chron_name)\n",
        "    msg_tmp += \"\\t\\t - cumulative reward: {:.2f}\\n\".format(cum_reward)\n",
        "    msg_tmp += \"\\t\\t - number of time steps completed: {:.0f} / {:.0f}\".format(nb_time_step, max_ts)\n",
        "    print(msg_tmp)"
      ],
      "metadata": {
        "id": "PydBu6ZOEjcM"
      },
      "execution_count": null,
      "outputs": []
    },
    {
      "cell_type": "code",
      "source": [
        "path_save_results = \"/content/gdrive/MyDrive/TCC_USP/rte_case5_example_20ep/saved_experiment_DoNothingAgent\"\n",
        "os.listdir(path_save_results)"
      ],
      "metadata": {
        "id": "caFVLdVLjv8I"
      },
      "execution_count": null,
      "outputs": []
    },
    {
      "cell_type": "code",
      "source": [
        "from grid2op.Episode import EpisodeData\n",
        "EpisodeData.list_episode(path_save_results)"
      ],
      "metadata": {
        "id": "BxTcWuDMj74M"
      },
      "execution_count": null,
      "outputs": []
    },
    {
      "cell_type": "code",
      "source": [
        "all_episodes = EpisodeData.list_episode(path_save_results)\n",
        "this_episode = EpisodeData.from_disk(*all_episodes[0])\n",
        "li_actions = this_episode.actions"
      ],
      "metadata": {
        "id": "4DAQEW1xkMFj"
      },
      "execution_count": null,
      "outputs": []
    },
    {
      "cell_type": "code",
      "source": [
        "line_disc = 0\n",
        "line_reco = 0\n",
        "line_changed = 0\n",
        "for act in this_episode.actions:\n",
        "    dict_ = act.as_dict()\n",
        "    if \"set_line_status\" in dict_:\n",
        "        line_reco += dict_[\"set_line_status\"][\"nb_connected\"]\n",
        "        line_disc += dict_[\"set_line_status\"][\"nb_disconnected\"]\n",
        "    if \"change_line_status\" in dict_:\n",
        "        line_changed += dict_[\"change_line_status\"][\"nb_changed\"]\n",
        "print(f'Total lines set to connected : {line_reco}')\n",
        "print(f'Total lines set to disconnected : {line_disc}')\n",
        "print(f'Total lines changed: {line_changed}')"
      ],
      "metadata": {
        "id": "91Yfm5V_b0mW"
      },
      "execution_count": null,
      "outputs": []
    },
    {
      "cell_type": "code",
      "source": [
        "li_observations = this_episode.observations\n",
        "nb_real_disc = 0\n",
        "for obs_ in li_observations:\n",
        "    nb_real_disc += (obs_.line_status == False).sum()\n",
        "print(f'Total number of disconnected powerlines cumulated over all the timesteps : {nb_real_disc}')"
      ],
      "metadata": {
        "id": "SAjJqhfykY0n"
      },
      "execution_count": null,
      "outputs": []
    },
    {
      "cell_type": "code",
      "source": [
        "actions_count = {}\n",
        "for act in li_actions:\n",
        "    act_as_vect = tuple(act.to_vect())\n",
        "    if not act_as_vect in actions_count:\n",
        "        actions_count[act_as_vect] = 0\n",
        "    actions_count[act_as_vect] += 1\n",
        "print(\"The agent did {} different valid actions\\n\".format(len(actions_count)))"
      ],
      "metadata": {
        "id": "rCpz73VskZj8"
      },
      "execution_count": null,
      "outputs": []
    },
    {
      "cell_type": "code",
      "source": [
        "for act in li_actions:\n",
        "    print(act)"
      ],
      "metadata": {
        "id": "SpiqPRDKkg_W"
      },
      "execution_count": null,
      "outputs": []
    },
    {
      "cell_type": "code",
      "source": [
        "nb_hazards = 0\n",
        "nb_maintenance = 0\n",
        "for act in this_episode.env_actions:\n",
        "    dict_ = act.as_dict() # representation of an action as a dictionnary, see the documentation for more information\n",
        "    if \"nb_hazards\" in dict_:\n",
        "        nb_hazards += 1\n",
        "    if \"nb_maintenance\" in dict_:\n",
        "        nb_maintenance += 1\n",
        "print(f'Total hazards : {nb_hazards}')\n",
        "print(f'Total maintenances : {nb_maintenance}')"
      ],
      "metadata": {
        "id": "-MOB8CLLrOKV"
      },
      "execution_count": null,
      "outputs": []
    },
    {
      "cell_type": "code",
      "source": [
        "import plotly.graph_objects as go\n",
        "load_id = 1\n",
        "# extract the data\n",
        "val_load1 = np.zeros(len(this_episode.observations))\n",
        "for i, obs in enumerate(this_episode.observations):\n",
        "    dict_ = obs.state_of(load_id=load_id) # which effect has this action action on the substation with id 1\n",
        "    # other objects are: load_id, gen_id, line_id or substation_id\n",
        "    # see the documentation for more information.\n",
        "    val_load1[i] = dict_['p']\n",
        "\n",
        "# plot it\n",
        "fig = go.Figure(data=[go.Scatter(x=[i for i in range(len(val_load1))],\n",
        "                                 y=val_load1)])\n",
        "fig.update_layout(title=\"Consumption of load {}\".format(load_id),\n",
        "                 xaxis_title=\"Time step\",\n",
        "                 yaxis_title=\"Load (MW)\")\n",
        "fig.show()"
      ],
      "metadata": {
        "id": "1tQu4qozrM0t"
      },
      "execution_count": null,
      "outputs": []
    },
    {
      "cell_type": "code",
      "source": [
        "gen_id = 1\n",
        "# extract the data\n",
        "val_lgen3 = np.zeros(len(this_episode.observations))\n",
        "for i, obs in enumerate(this_episode.observations):\n",
        "    dict_ = obs.state_of(gen_id=gen_id) # which effect has this action action on the substation with id 1\n",
        "    # other objects are: load_id, gen_id, line_id or substation_id\n",
        "    # see the documentation for more information.\n",
        "    val_lgen3[i] = dict_['p']\n",
        "\n",
        "# plot it\n",
        "fig = go.Figure(data=[go.Scatter(x=[i for i in range(len(val_lgen3))],\n",
        "                                 y=val_lgen3)])\n",
        "fig.update_layout(title=\"Production of generator {}\".format(gen_id),\n",
        "                 xaxis_title=\"Time step\",\n",
        "                 yaxis_title=\"Production (MW)\")\n",
        "fig.show()"
      ],
      "metadata": {
        "id": "XvH285nnkhdk"
      },
      "execution_count": null,
      "outputs": []
    },
    {
      "cell_type": "code",
      "source": [
        "from_ = 1\n",
        "to_ = 2\n",
        "found_ids = this_episode.observations.helper.get_lines_id(from_=from_, to_=to_)\n",
        "line_id = found_ids[0]\n",
        "\n",
        "# extract the data\n",
        "val_l2_4 = np.zeros(len(this_episode.observations))\n",
        "for i, obs in enumerate(this_episode.observations):\n",
        "    dict_ = obs.state_of(line_id=line_id) # which effect has this action action on the substation with id 1\n",
        "    # other objects are: load_id, gen_id, line_id or substation_id\n",
        "    # see the documentation for more information.\n",
        "    val_l2_4[i] = dict_[\"origin\"]['a']\n",
        "\n",
        "# plot it\n",
        "fig = go.Figure(data=[go.Scatter(x=[i for i in range(len(val_l2_4))],\n",
        "                                 y=val_l2_4)])\n",
        "fig.update_layout(title=\"Flow on powerline {} (going from {} to {})\".format(line_id, from_, to_),\n",
        "                 xaxis_title=\"Time step\",\n",
        "                 yaxis_title=\"Production (MW)\")\n",
        "fig.show()"
      ],
      "metadata": {
        "id": "2JNBs-MIrqLm"
      },
      "execution_count": null,
      "outputs": []
    },
    {
      "cell_type": "code",
      "source": [
        "from grid2op.PlotGrid import PlotMatplot\n",
        "obs = copy.deepcopy(this_episode.observations[100])\n",
        "\n",
        "plot_helper = PlotMatplot(observation_space=this_episode.observation_space)\n",
        "fig = plot_helper.plot_obs(obs)"
      ],
      "metadata": {
        "id": "blw6jQm-r7K_"
      },
      "execution_count": null,
      "outputs": []
    },
    {
      "cell_type": "code",
      "source": [],
      "metadata": {
        "id": "3q0r9uKJ1cgp"
      },
      "execution_count": null,
      "outputs": []
    }
  ]
}